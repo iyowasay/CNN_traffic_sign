{
 "cells": [
  {
   "cell_type": "markdown",
   "metadata": {},
   "source": [
    "# Self-Driving Car Engineer Nanodegree\n",
    "\n",
    "## Deep Learning\n",
    "\n",
    "## Project: Build a Traffic Sign Recognition Classifier\n",
    "\n",
    "In this notebook, a template is provided for you to implement your functionality in stages, which is required to successfully complete this project. If additional code is required that cannot be included in the notebook, be sure that the Python code is successfully imported and included in your submission if necessary. \n",
    "\n",
    "> **Note**: Once you have completed all of the code implementations, you need to finalize your work by exporting the iPython Notebook as an HTML document. Before exporting the notebook to html, all of the code cells need to have been run so that reviewers can see the final implementation and output. You can then export the notebook by using the menu above and navigating to  \\n\",\n",
    "    \"**File -> Download as -> HTML (.html)**. Include the finished document along with this notebook as your submission. \n",
    "\n",
    "In addition to implementing code, there is a writeup to complete. The writeup should be completed in a separate file, which can be either a markdown file or a pdf document. There is a [write up template](https://github.com/udacity/CarND-Traffic-Sign-Classifier-Project/blob/master/writeup_template.md) that can be used to guide the writing process. Completing the code template and writeup template will cover all of the [rubric points](https://review.udacity.com/#!/rubrics/481/view) for this project.\n",
    "\n",
    "The [rubric](https://review.udacity.com/#!/rubrics/481/view) contains \"Stand Out Suggestions\" for enhancing the project beyond the minimum requirements. The stand out suggestions are optional. If you decide to pursue the \"stand out suggestions\", you can include the code in this Ipython notebook and also discuss the results in the writeup file."
   ]
  },
  {
   "cell_type": "markdown",
   "metadata": {},
   "source": [
    "---\n",
    "## Step 0: Load The Data"
   ]
  },
  {
   "cell_type": "code",
   "execution_count": 1,
   "metadata": {},
   "outputs": [],
   "source": [
    "# Load pickled data\n",
    "import pickle\n",
    "import numpy as np\n",
    "import pandas as pd\n",
    "import tensorflow as tf\n",
    "\n",
    "training_file = \"traffic-signs-data/train.p\"\n",
    "validation_file = \"./traffic-signs-data/valid.p\"\n",
    "testing_file = \"./traffic-signs-data/test.p\"\n",
    "\n",
    "with open(training_file, mode='rb') as f:\n",
    "    train = pickle.load(f)\n",
    "with open(validation_file, mode='rb') as f:\n",
    "    valid = pickle.load(f)\n",
    "with open(testing_file, mode='rb') as f:\n",
    "    test = pickle.load(f)\n",
    "    \n",
    "class_names = pd.read_csv('signnames.csv', usecols=['SignName']).values\n",
    "    \n",
    "X_train, y_train = train['features'], train['labels']\n",
    "X_valid, y_valid = valid['features'], valid['labels']\n",
    "X_test, y_test = test['features'], test['labels']\n",
    "\n",
    "\n",
    "assert(len(X_train) == len(y_train))\n",
    "assert(len(X_valid) == len(y_valid))\n",
    "assert(len(X_test) == len(y_test))"
   ]
  },
  {
   "cell_type": "code",
   "execution_count": 2,
   "metadata": {},
   "outputs": [
    {
     "name": "stdout",
     "output_type": "stream",
     "text": [
      "34799 4\n",
      "<class 'numpy.ndarray'>\n",
      "<class 'numpy.ndarray'>\n",
      "Speed limit (30km/h)\n",
      "[ 5  5 25 28]\n"
     ]
    }
   ],
   "source": [
    "print(len(X_train), len(train))\n",
    "print(type(y_train))\n",
    "# print(y_test.shape)\n",
    "# tt = np.concatenate((y_train, y_valid, y_test))\n",
    "\n",
    "print(type(class_names))\n",
    "print(class_names[1][0])\n",
    "\n",
    "print(train['coords'][100])"
   ]
  },
  {
   "cell_type": "markdown",
   "metadata": {},
   "source": [
    "---\n",
    "\n",
    "## Step 1: Dataset Summary & Exploration\n",
    "\n",
    "The pickled data is a dictionary with 4 key/value pairs:\n",
    "\n",
    "- `'features'` is a 4D array containing raw pixel data of the traffic sign images, (num examples, width, height, channels).\n",
    "- `'labels'` is a 1D array containing the label/class id of the traffic sign. The file `signnames.csv` contains id -> name mappings for each id.\n",
    "- `'sizes'` is a list containing tuples, (width, height) representing the original width and height the image.\n",
    "- `'coords'` is a list containing tuples, (x1, y1, x2, y2) representing coordinates of a bounding box around the sign in the image. **THESE COORDINATES ASSUME THE ORIGINAL IMAGE. THE PICKLED DATA CONTAINS RESIZED VERSIONS (32 by 32) OF THESE IMAGES**\n",
    "\n",
    "Complete the basic data summary below. Use python, numpy and/or pandas methods to calculate the data summary rather than hard coding the results. For example, the [pandas shape method](http://pandas.pydata.org/pandas-docs/stable/generated/pandas.DataFrame.shape.html) might be useful for calculating some of the summary results. "
   ]
  },
  {
   "cell_type": "markdown",
   "metadata": {},
   "source": [
    "### Provide a Basic Summary of the Data Set Using Python, Numpy and/or Pandas"
   ]
  },
  {
   "cell_type": "code",
   "execution_count": 3,
   "metadata": {},
   "outputs": [
    {
     "name": "stdout",
     "output_type": "stream",
     "text": [
      "Number of training examples = 34799\n",
      "Number of validation examples = 4410\n",
      "Number of testing examples = 12630\n",
      "Image data shape = (32, 32, 3)\n",
      "Number of classes = 43\n"
     ]
    }
   ],
   "source": [
    "### Replace each question mark with the appropriate value. \n",
    "### Use python, pandas or numpy methods rather than hard coding the results\n",
    "\n",
    "# TODO: Number of training examples\n",
    "n_train = len(X_train)\n",
    "# TODO: Number of validation examples\n",
    "n_validation = len(X_valid)\n",
    "# TODO: Number of testing examples.\n",
    "n_test = len(X_test)\n",
    "\n",
    "# TODO: What's the shape of an traffic sign image?\n",
    "image_shape = X_train[6].shape\n",
    "\n",
    "# TODO: How many unique classes/labels there are in the dataset.\n",
    "# n_classes = len(set(np.concatenate((y_train, y_valid, y_test))))\n",
    "n_classes = len(np.unique(y_train)) # may not be correct since y_train might not contain all the classes  \n",
    "\n",
    "print(\"Number of training examples =\", n_train)\n",
    "print(\"Number of validation examples =\", n_validation)\n",
    "print(\"Number of testing examples =\", n_test)\n",
    "print(\"Image data shape =\", image_shape)\n",
    "print(\"Number of classes =\", n_classes)"
   ]
  },
  {
   "cell_type": "markdown",
   "metadata": {},
   "source": [
    "### Include an exploratory visualization of the dataset"
   ]
  },
  {
   "cell_type": "markdown",
   "metadata": {},
   "source": [
    "Visualize the German Traffic Signs Dataset using the pickled file(s). This is open ended, suggestions include: plotting traffic sign images, plotting the count of each sign, etc. \n",
    "\n",
    "The [Matplotlib](http://matplotlib.org/) [examples](http://matplotlib.org/examples/index.html) and [gallery](http://matplotlib.org/gallery.html) pages are a great resource for doing visualizations in Python.\n",
    "\n",
    "**NOTE:** It's recommended you start with something simple first. If you wish to do more, come back to it after you've completed the rest of the sections. It can be interesting to look at the distribution of classes in the training, validation and test set. Is the distribution the same? Are there more examples of some classes than others?"
   ]
  },
  {
   "cell_type": "code",
   "execution_count": 4,
   "metadata": {
    "scrolled": false
   },
   "outputs": [
    {
     "data": {
      "image/png": "[encoded data removed]",
      "text/plain": [
       "<Figure size 432x288 with 1 Axes>"
      ]
     },
     "metadata": {
      "needs_background": "light"
     },
     "output_type": "display_data"
    },
    {
     "data": {
      "image/png": "[encoded data removed]",
      "text/plain": [
       "<Figure size 432x288 with 1 Axes>"
      ]
     },
     "metadata": {
      "needs_background": "light"
     },
     "output_type": "display_data"
    },
    {
     "data": {
      "image/png": "[encoded data removed]",
      "text/plain": [
       "<Figure size 432x288 with 1 Axes>"
      ]
     },
     "metadata": {
      "needs_background": "light"
     },
     "output_type": "display_data"
    }
   ],
   "source": [
    "### Data exploration visualization code goes here.\n",
    "import matplotlib.pyplot as plt\n",
    "import cv2\n",
    "import random\n",
    "from sklearn.utils import shuffle\n",
    "\n",
    "# Visualizations will be shown in the notebook.\n",
    "%matplotlib inline\n",
    "\n",
    "def show_class(labels, n_names, dataset_type=None):\n",
    "#     figsize=(10,10)\n",
    "    fig = plt.figure()\n",
    "    ax = fig.add_axes([0,0,1,1])\n",
    "    sign_names = list(range(n_names))\n",
    "    counts = [0]*n_names\n",
    "    for i in labels:\n",
    "        counts[i]+=1\n",
    "    ax.bar(sign_names,counts)\n",
    "    ax.set_title(\"Distribution of \"+dataset_type+\" dataset\")\n",
    "    ax.set_xlabel(\"Class\")\n",
    "    ax.set_ylabel(\"Number of examples\")\n",
    "    if(dataset_type!=None):\n",
    "        string = './image/' + dataset_type + '_bar.png'\n",
    "        fig.savefig(string,dpi=400, bbox_inches='tight', pad_inches=0)\n",
    "    plt.show()\n",
    "    return counts\n",
    "\n",
    "count_train = show_class(y_train, n_classes, 'training')\n",
    "count_valid = show_class(y_valid, n_classes, 'validation')\n",
    "count_test = show_class(y_test, n_classes, 'testing')"
   ]
  },
  {
   "cell_type": "code",
   "execution_count": 5,
   "metadata": {},
   "outputs": [
    {
     "name": "stdout",
     "output_type": "stream",
     "text": [
      "@ Classes in training set that have number of samples more than 1200:\n",
      "Speed limit (30km/h)\n",
      "Speed limit (50km/h)\n",
      "Speed limit (60km/h)\n",
      "Speed limit (70km/h)\n",
      "Speed limit (80km/h)\n",
      "Speed limit (100km/h)\n",
      "Speed limit (120km/h)\n",
      "No passing\n",
      "No passing for vehicles over 3.5 metric tons\n",
      "Priority road\n",
      "Yield\n",
      "Road work\n",
      "Keep right\n"
     ]
    }
   ],
   "source": [
    "# for training set \n",
    "most_label = []\n",
    "upper_limit = 1200\n",
    "print('@ Classes in training set that have number of samples more than '+str(upper_limit)+':')\n",
    "for i in range(n_classes):\n",
    "    if(count_train[i] > upper_limit):\n",
    "        print(class_names[i][0])\n",
    "        most_label.append(class_names[i][0])\n",
    "\n",
    "# print(most_label)"
   ]
  },
  {
   "cell_type": "code",
   "execution_count": 6,
   "metadata": {},
   "outputs": [
    {
     "name": "stdout",
     "output_type": "stream",
     "text": [
      "@ Classes in training set that have number of samples less than 500:\n",
      "Speed limit (20km/h)\n",
      "End of speed limit (80km/h)\n",
      "Vehicles over 3.5 metric tons prohibited\n",
      "Dangerous curve to the left\n",
      "Dangerous curve to the right\n",
      "Double curve\n",
      "Bumpy road\n",
      "Slippery road\n",
      "Road narrows on the right\n",
      "Pedestrians\n",
      "Children crossing\n",
      "Bicycles crossing\n",
      "Beware of ice/snow\n",
      "End of all speed and passing limits\n",
      "Turn left ahead\n",
      "Go straight or right\n",
      "Go straight or left\n",
      "Keep left\n",
      "Roundabout mandatory\n",
      "End of no passing\n",
      "End of no passing by vehicles over 3.5 metric tons\n"
     ]
    }
   ],
   "source": [
    "# for training set \n",
    "lower_limit = 500\n",
    "print('@ Classes in training set that have number of samples less than '+str(lower_limit)+':')\n",
    "for i in range(n_classes):\n",
    "    if(count_train[i] <= lower_limit):\n",
    "        print(class_names[i][0])"
   ]
  },
  {
   "cell_type": "code",
   "execution_count": 7,
   "metadata": {},
   "outputs": [],
   "source": [
    "def show_img(img, label=-1, space=None):\n",
    "    plt.figure()\n",
    "    if space=='cv2':\n",
    "        plt.imshow(cv2.cvtColor(img, cv2.COLOR_BGR2RGB))\n",
    "    else:\n",
    "        if(len(img.shape)==2):\n",
    "            plt.imshow(img, cmap='gray')\n",
    "        else:\n",
    "            plt.imshow(img)\n",
    "        \n",
    "    if label != -1:\n",
    "        print(class_names[label][0])\n",
    "    return "
   ]
  },
  {
   "cell_type": "code",
   "execution_count": 8,
   "metadata": {},
   "outputs": [
    {
     "name": "stdout",
     "output_type": "stream",
     "text": [
      "Stop\n"
     ]
    },
    {
     "data": {
      "image/png": "[encoded data removed]",
      "text/plain": [
       "<Figure size 432x288 with 1 Axes>"
      ]
     },
     "metadata": {
      "needs_background": "light"
     },
     "output_type": "display_data"
    }
   ],
   "source": [
    "img_index = random.randint(0, len(X_train))\n",
    "show_img(X_train[img_index], y_train[img_index])"
   ]
  },
  {
   "cell_type": "code",
   "execution_count": 9,
   "metadata": {
    "scrolled": false
   },
   "outputs": [
    {
     "name": "stdout",
     "output_type": "stream",
     "text": [
      "(32, 32, 3)\n",
      "(1, 32, 32, 3)\n"
     ]
    },
    {
     "data": {
      "image/png": "[encoded data removed]",
      "text/plain": [
       "<Figure size 720x720 with 9 Axes>"
      ]
     },
     "metadata": {
      "needs_background": "light"
     },
     "output_type": "display_data"
    }
   ],
   "source": [
    "from tensorflow.keras.preprocessing.image import ImageDataGenerator\n",
    "from tensorflow.keras.layers import BatchNormalization\n",
    "\n",
    "sample = X_train[img_index]\n",
    "data_gen = ImageDataGenerator(zoom_range=0.3)\n",
    "print(sample.shape)\n",
    "sample = np.expand_dims(sample, 0)\n",
    "print(sample.shape)\n",
    "\n",
    "iterator = data_gen.flow(sample, batch_size=1)\n",
    "\n",
    "c = 3\n",
    "fig, axs = plt.subplots(c,c, figsize=(10,10))\n",
    "for i in range(c):\n",
    "    for j in range(c):\n",
    "#         plt.subplot(3,3, (i, j))\n",
    "        batch = iterator.next()\n",
    "        image = batch[0].astype('uint8')\n",
    "        axs[i,j].imshow(image)\n",
    "    \n",
    "plt.show()"
   ]
  },
  {
   "cell_type": "code",
   "execution_count": 10,
   "metadata": {},
   "outputs": [],
   "source": [
    "# actual augmentation of training data\n",
    "data_aug = ImageDataGenerator(featurewise_center=True, featurewise_std_normalization=True,\n",
    "                              rotation_range=30, width_shift_range=0.2, height_shift_range=0.2,shear_range=15,\n",
    "                              zoom_range=0.2,channel_shift_range=100,horizontal_flip = True)\n",
    "\n",
    "import cv2\n",
    "\n",
    "# def image_augmentation(img, X, aug_type):\n",
    "#     if aug_type=='rotation':\n",
    "        \n",
    "#     elif aug_type=='mirror':\n",
    "        \n",
    "#     elif aug_type=='color_shift':\n",
    "        \n",
    "    \n",
    "     \n",
    "#     return "
   ]
  },
  {
   "cell_type": "markdown",
   "metadata": {},
   "source": [
    "----\n",
    "\n",
    "## Step 2: Design and Test a Model Architecture\n",
    "\n",
    "Design and implement a deep learning model that learns to recognize traffic signs. Train and test your model on the [German Traffic Sign Dataset](http://benchmark.ini.rub.de/?section=gtsrb&subsection=dataset).\n",
    "\n",
    "The LeNet-5 implementation shown in the [classroom](https://classroom.udacity.com/nanodegrees/nd013/parts/fbf77062-5703-404e-b60c-95b78b2f3f9e/modules/6df7ae49-c61c-4bb2-a23e-6527e69209ec/lessons/601ae704-1035-4287-8b11-e2c2716217ad/concepts/d4aca031-508f-4e0b-b493-e7b706120f81) at the end of the CNN lesson is a solid starting point. You'll have to change the number of classes and possibly the preprocessing, but aside from that it's plug and play! \n",
    "\n",
    "With the LeNet-5 solution from the lecture, you should expect a validation set accuracy of about 0.89. To meet specifications, the validation set accuracy will need to be at least 0.93. It is possible to get an even higher accuracy, but 0.93 is the minimum for a successful project submission. \n",
    "\n",
    "There are various aspects to consider when thinking about this problem:\n",
    "\n",
    "- Neural network architecture (is the network over or underfitting?)\n",
    "- Play around preprocessing techniques (normalization, rgb to grayscale, etc)\n",
    "- Number of examples per label (some have more than others).\n",
    "- Generate fake data.\n",
    "\n",
    "Here is an example of a [published baseline model on this problem](http://yann.lecun.com/exdb/publis/pdf/sermanet-ijcnn-11.pdf). It's not required to be familiar with the approach used in the paper but, it's good practice to try to read papers like these."
   ]
  },
  {
   "cell_type": "markdown",
   "metadata": {},
   "source": [
    "### Pre-process the Data Set (normalization, grayscale, etc.)"
   ]
  },
  {
   "cell_type": "markdown",
   "metadata": {},
   "source": [
    "Minimally, the image data should be normalized so that the data has mean zero and equal variance. For image data, `(pixel - 128)/ 128` is a quick way to approximately normalize the data and can be used in this project. \n",
    "\n",
    "Other pre-processing steps are optional. You can try different techniques to see if it improves performance. \n",
    "\n",
    "Use the code cell (or multiple code cells, if necessary) to implement the first step of your project."
   ]
  },
  {
   "cell_type": "code",
   "execution_count": 11,
   "metadata": {
    "scrolled": false
   },
   "outputs": [],
   "source": [
    "### Preprocess the data here. It is required to normalize the data. Other preprocessing steps could include \n",
    "### converting to grayscale, etc.\n",
    "def normalize_pixel(dataset, gray=True): \n",
    "#     norm = np.ndarray(shape=dataset.shape, dtype=float)\n",
    "    if gray==True:\n",
    "        new_shape = (dataset.shape[0], dataset.shape[1], dataset.shape[2], 1)\n",
    "        norm = np.ndarray(shape=new_shape, dtype=float)\n",
    "    else:\n",
    "        norm = np.ndarray(shape=dataset.shape, dtype=float)\n",
    "    i = 0\n",
    "    for img_array in dataset:\n",
    "        if gray:\n",
    "            temp = cv2.cvtColor(img_array, cv2.COLOR_RGB2GRAY)\n",
    "            temp = (temp-128.0)/128.0\n",
    "#             temp = temp/255\n",
    "#             assert (temp[..., None]==temp.reshape(32,32,1)).all(), \"They are not the same\"\n",
    "            norm[i] = temp.reshape(32,32,1)\n",
    "        else:\n",
    "            norm[i] = (img_array-128.0)/128.0  \n",
    "            \n",
    "        i+=1\n",
    "    return norm\n",
    "\n",
    "X_train_norm = normalize_pixel(X_train)\n",
    "X_valid_norm = normalize_pixel(X_valid)\n",
    "X_test_norm = normalize_pixel(X_test)\n",
    "# X_train_norm = normalize_pixel(X_train, False)\n",
    "# X_valid_norm = normalize_pixel(X_valid, False)\n",
    "# X_test_norm = normalize_pixel(X_test, False)\n",
    "\n",
    "# shuffle the training data, since the order of data may affect the result of the model.\n",
    "X_train_norm, y_train_ = shuffle(X_train_norm, y_train)\n",
    "data_aug.fit(X_train)"
   ]
  },
  {
   "cell_type": "code",
   "execution_count": 12,
   "metadata": {
    "scrolled": false
   },
   "outputs": [
    {
     "name": "stdout",
     "output_type": "stream",
     "text": [
      "(34799, 32, 32, 1)\n",
      "(32, 32, 1)\n",
      "<tensorflow.python.keras.preprocessing.image.ImageDataGenerator object at 0x7fe7eb9e4f50>\n"
     ]
    }
   ],
   "source": [
    "j = random.randint(0, len(X_train_norm))\n",
    "imgg = X_train_norm[j]\n",
    "print(X_train_norm.shape)\n",
    "print(imgg.shape)\n",
    "\n",
    "print(data_aug)"
   ]
  },
  {
   "cell_type": "markdown",
   "metadata": {},
   "source": []
  },
  {
   "cell_type": "markdown",
   "metadata": {},
   "source": [
    "### Model Architecture"
   ]
  },
  {
   "cell_type": "code",
   "execution_count": 34,
   "metadata": {},
   "outputs": [],
   "source": [
    "#### Define your architecture here.\n",
    "\n",
    "# Number of samples to calculate validation and accuracy\n",
    "# Decrease this if you're running out of memory to calculate accuracy\n",
    "# test_valid_size = 256\n",
    "\n",
    "def conv2d(x, W, b, strides=1, pad='VALID'):\n",
    "    x = tf.nn.conv2d(x, W, strides=[1, strides, strides, 1], padding=pad)\n",
    "    # Add bias\n",
    "    x = tf.nn.bias_add(x, b)\n",
    "    # tf.keras.activations.relu()\n",
    "    return tf.nn.relu(x) # Activation function ReLU\n",
    "\n",
    "def maxpooling(x, k=2, s=2, pad='VALID'):\n",
    "    # down sampling, reduce its dimensionality\n",
    "    return tf.nn.max_pool(x, ksize=[1, k, k, 1], strides=[1, s, s, 1], padding=pad)\n",
    "\n",
    "def drop_out(x, keep_prob):\n",
    "    # Dropout: the probability to keep units, prevent overfitting\n",
    "    return tf.nn.dropout(x, keep_prob)\n",
    "\n",
    "def fully_connected(x, W, b, drop=False, keep_prob=0.7):\n",
    "    fc = tf.add(tf.matmul(x, W), b)\n",
    "#     fc = tf.nn.batch_normalization(fc, 0, 1)   , gamma, beta,\n",
    "    fc = tf.nn.relu(fc)\n",
    "    if drop==True:\n",
    "        # Dropout: the probability to keep units\n",
    "        fc = tf.nn.dropout(fc, keep_prob)\n",
    "    return fc\n",
    "\n",
    "def cnn(x, regu = None):   \n",
    "    # Arguments used for tf.truncated_normal, randomly defines variables for the weights and biases for each layer\n",
    "    mu = 0 # zero mean \n",
    "    sigma = 0.1 # standard deviation\n",
    "    kernel_size = 5\n",
    "    \n",
    "    weights = {\n",
    "        'wc1': tf.Variable(tf.truncated_normal([kernel_size, kernel_size, 1, 15], mu, sigma)),\n",
    "        'wc2': tf.Variable(tf.truncated_normal([kernel_size, kernel_size, 15, 30], mu, sigma)),\n",
    "#         'wc3': tf.Variable(tf.truncated_normal([kernel_size, kernel_size, 10, 16], mu, sigma)),\n",
    "        'wfc1': tf.Variable(tf.truncated_normal([kernel_size*kernel_size*30, 500], mu, sigma)),\n",
    "        'wfc2': tf.Variable(tf.truncated_normal([500, 250], mu, sigma)),\n",
    "        'wfc3': tf.Variable(tf.truncated_normal([250, 150], mu, sigma)),\n",
    "        'out': tf.Variable(tf.truncated_normal([150, n_classes], mu, sigma))}\n",
    "\n",
    "    biases = {\n",
    "        'bc1': tf.Variable(tf.zeros(15)),\n",
    "        'bc2': tf.Variable(tf.zeros(30)),\n",
    "#         'bc3': tf.Variable(tf.zeros(16)),\n",
    "        'bfc1': tf.Variable(tf.zeros(500)),\n",
    "        'bfc2': tf.Variable(tf.zeros(250)),\n",
    "        'bfc3': tf.Variable(tf.zeros(150)),\n",
    "        'out': tf.Variable(tf.zeros(n_classes))}\n",
    "    \n",
    "    L2norm = tf.nn.l2_loss(weights['wfc1'])+tf.nn.l2_loss(weights['wfc2'])+tf.nn.l2_loss(weights['wfc3'])+tf.nn.l2_loss(weights['out'])\n",
    "    \n",
    "    # Convolutional layers\n",
    "    # c1: Input = 32x32x1.  Output = 28x28x6.\n",
    "    conv1 = conv2d(x, weights['wc1'], biases['bc1'])\n",
    "    # Pooling. Input = 28x28x6. Output = 14x14x6.\n",
    "    conv1 = maxpooling(conv1)\n",
    "    # c2: Input = 14x14x6. Output = 10x10x16.\n",
    "    conv2 = conv2d(conv1, weights['wc2'], biases['bc2'])\n",
    "    # Pooling. Input = 10x10x16. Output = 5x5x16.\n",
    "    conv2 = maxpooling(conv2)\n",
    "    \n",
    "    # c2: Input = 14x14x6. Output = 10x10x16.\n",
    "#     conv3= conv2d(conv2, weights['wc3'], biases['bc3'])\n",
    "#     # Pooling. Input = 10x10x16. Output = 5x5x16.\n",
    "#     conv3 = maxpooling(conv3)\n",
    "    \n",
    "    # Flatten = vectorization\n",
    "    flat = tf.contrib.layers.flatten(conv2)\n",
    "    \n",
    "#     vec1 = flat\n",
    "    vec1 = tf.nn.dropout(flat, 0.6)\n",
    "    # Fully connected layers\n",
    "    \n",
    "    if regu=='dropout':\n",
    "        # fc1: Input = 400. Output = 120.\n",
    "        fc1 = fully_connected(vec1, weights['wfc1'], biases['bfc1'],True, 0.75)\n",
    "        # fc2: Input = 120. Output = 84.\n",
    "        fc2 = fully_connected(fc1, weights['wfc2'], biases['bfc2'], True, 0.75)\n",
    "        fc3 = fully_connected(fc2, weights['wfc3'], biases['bfc3'], True, 0.75)\n",
    "    else:\n",
    "        # fc1: Input = 400. Output = 120.\n",
    "        fc1 = fully_connected(vec1, weights['wfc1'], biases['bfc1'])\n",
    "        # fc2: Input = 120. Output = 84.\n",
    "        fc2 = fully_connected(fc1, weights['wfc2'], biases['bfc2'])\n",
    "        \n",
    "\n",
    "    # fc3:\n",
    "    logits = tf.add(tf.matmul(fc3, weights['out']), biases['out'])\n",
    "    return logits, L2norm\n"
   ]
  },
  {
   "cell_type": "markdown",
   "metadata": {},
   "source": [
    "### Train, Validate and Test the Model"
   ]
  },
  {
   "cell_type": "markdown",
   "metadata": {},
   "source": [
    "A validation set can be used to assess how well the model is performing. A low accuracy on the training and validation\n",
    "sets imply underfitting. A high accuracy on the training set but low accuracy on the validation set implies overfitting."
   ]
  },
  {
   "cell_type": "code",
   "execution_count": 35,
   "metadata": {
    "scrolled": false
   },
   "outputs": [],
   "source": [
    "### Train your model here.\n",
    "### Calculate and report the accuracy on the training and validation set.\n",
    "### Once a final model architecture is selected, \n",
    "### the accuracy on the test set should be calculated and reported as well.\n",
    "\n",
    "x = tf.placeholder(tf.float32, (None, 32, 32, 1))\n",
    "y = tf.placeholder(tf.int32, (None))\n",
    "one_hot_y = tf.one_hot(y, n_classes)\n",
    "keep_prob = tf.placeholder(tf.float32)\n",
    "\n",
    "# Parameters\n",
    "EPOCHS = 20\n",
    "BATCH_SIZE = 128\n",
    "rate = 0.001 # learning rate\n",
    "beta = 0.0001 # L2 norm regulerization\n",
    "\n",
    "logits, l2_norm = cnn(x, 'dropout')\n",
    "cross_entropy = tf.nn.softmax_cross_entropy_with_logits(labels=one_hot_y, logits=logits)\n",
    "loss_operation = tf.reduce_mean(cross_entropy + beta*l2_norm)\n",
    "optimizer = tf.train.AdamOptimizer(learning_rate = rate)\n",
    "training_operation = optimizer.minimize(loss_operation)\n",
    "\n",
    "# cost = tf.reduce_mean(tf.nn.softmax_cross_entropy_with_logits(logits=logits, labels=y))\n",
    "# optimizer = tf.train.GradientDescentOptimizer(learning_rate=learning_rate).minimize(cost)\n",
    "# # Accuracy\n",
    "# correct_pred = tf.equal(tf.argmax(logits, 1), tf.argmax(y, 1))\n",
    "# accuracy = tf.reduce_mean(tf.cast(correct_pred, tf.float32))"
   ]
  },
  {
   "cell_type": "code",
   "execution_count": null,
   "metadata": {},
   "outputs": [],
   "source": []
  },
  {
   "cell_type": "code",
   "execution_count": 36,
   "metadata": {},
   "outputs": [],
   "source": [
    "correct_prediction = tf.equal(tf.argmax(logits, 1), tf.argmax(one_hot_y, 1))\n",
    "accuracy_operation = tf.reduce_mean(tf.cast(correct_prediction, tf.float32))\n",
    "saver = tf.train.Saver()\n",
    "import time\n",
    "def evaluate(X_data, y_data):\n",
    "    num_examples = len(X_data)\n",
    "    total_accuracy = 0\n",
    "    total_loss = 0\n",
    "    sess = tf.get_default_session()\n",
    "    for offset in range(0, num_examples, BATCH_SIZE):\n",
    "        batch_x, batch_y = X_data[offset:offset+BATCH_SIZE], y_data[offset:offset+BATCH_SIZE]\n",
    "        accuracy, loss = sess.run([accuracy_operation, loss_operation], feed_dict={x: batch_x, y: batch_y})\n",
    "        total_accuracy += (accuracy * len(batch_x))\n",
    "        total_loss += (loss * len(batch_x))\n",
    "    return total_accuracy / num_examples, total_loss / num_examples"
   ]
  },
  {
   "cell_type": "code",
   "execution_count": 37,
   "metadata": {
    "scrolled": false
   },
   "outputs": [
    {
     "name": "stdout",
     "output_type": "stream",
     "text": [
      "Training...\n",
      "\n",
      "EPOCH 1 ... [used 17.10 s]\n",
      "Validation Accuracy = 64.88 %\n",
      "\n",
      "EPOCH 2 ... [used 15.66 s]\n",
      "Validation Accuracy = 79.91 %\n",
      "\n",
      "EPOCH 3 ... [used 17.03 s]\n",
      "Validation Accuracy = 83.81 %\n",
      "\n",
      "EPOCH 4 ... [used 15.71 s]\n",
      "Validation Accuracy = 88.07 %\n",
      "\n",
      "EPOCH 5 ... [used 15.35 s]\n",
      "Validation Accuracy = 88.16 %\n",
      "\n",
      "EPOCH 6 ... [used 15.39 s]\n",
      "Validation Accuracy = 89.93 %\n",
      "\n",
      "EPOCH 7 ... [used 18.08 s]\n",
      "Validation Accuracy = 90.25 %\n",
      "\n",
      "EPOCH 8 ... [used 19.99 s]\n",
      "Validation Accuracy = 90.93 %\n",
      "\n",
      "EPOCH 9 ... [used 18.81 s]\n",
      "Validation Accuracy = 90.43 %\n",
      "\n",
      "EPOCH 10 ... [used 16.84 s]\n",
      "Validation Accuracy = 91.72 %\n",
      "\n",
      "EPOCH 11 ... [used 15.89 s]\n",
      "Validation Accuracy = 92.54 %\n",
      "\n",
      "EPOCH 12 ... [used 16.58 s]\n",
      "Validation Accuracy = 91.52 %\n",
      "\n",
      "EPOCH 13 ... [used 19.15 s]\n",
      "Validation Accuracy = 91.95 %\n",
      "\n",
      "EPOCH 14 ... [used 17.65 s]\n",
      "Validation Accuracy = 93.13 %\n",
      "\n",
      "EPOCH 15 ... [used 16.36 s]\n",
      "Validation Accuracy = 93.74 %\n",
      "\n",
      "EPOCH 16 ... [used 18.09 s]\n",
      "Validation Accuracy = 93.20 %\n",
      "\n",
      "EPOCH 17 ... [used 17.39 s]\n",
      "Validation Accuracy = 93.90 %\n",
      "\n",
      "EPOCH 18 ... [used 16.88 s]\n",
      "Validation Accuracy = 93.38 %\n",
      "\n",
      "EPOCH 19 ... [used 17.34 s]\n",
      "Validation Accuracy = 93.45 %\n",
      "\n",
      "EPOCH 20 ... [used 16.19 s]\n",
      "Validation Accuracy = 94.10 %\n",
      "\n",
      "Model saved\n"
     ]
    },
    {
     "data": {
      "image/png": "[encoded data removed]",
      "text/plain": [
       "<Figure size 576x288 with 2 Axes>"
      ]
     },
     "metadata": {
      "needs_background": "light"
     },
     "output_type": "display_data"
    }
   ],
   "source": [
    "# Start to train!!!\n",
    "\n",
    "with tf.Session() as sess:\n",
    "    sess.run(tf.global_variables_initializer()) # variable initialization\n",
    "    num_examples = len(X_train_norm)\n",
    "    valid_losses, valid_accuracy_ = [], []\n",
    "    train_losses, train_accuracy_ = [], []\n",
    "    \n",
    "    print(\"Training...\")\n",
    "    print()\n",
    "    \n",
    "    for i in range(EPOCHS):\n",
    "        X_train_norm, y_train_ = shuffle(X_train_norm, y_train_)\n",
    "        t_start = time.time()\n",
    "        for offset in range(0, num_examples, BATCH_SIZE):\n",
    "            end = offset + BATCH_SIZE\n",
    "            batch_x, batch_y = X_train_norm[offset:end], y_train_[offset:end]\n",
    "            sess.run(training_operation, feed_dict={x: batch_x, y: batch_y})\n",
    "            \n",
    "# trying batch norm and augmentation\n",
    "#     for i in range(EPOCHS):\n",
    "# #         X_train_nom, y_train_ = shuffle(X_train_norm, y_train_)\n",
    "# #         X_train, y_train = shuffle(X_train, y_train)\n",
    "#         t_start = time.time()\n",
    "#         escape=0\n",
    "#         for batch_x, batch_y in data_aug.flow(X_train, y_train, batch_size=BATCH_SIZE):\n",
    "#             batch_x = normalize_pixel(batch_x)\n",
    "#             sess.run(training_operation, feed_dict={x: batch_x, y: batch_y})\n",
    "#             escape += 1\n",
    "#             if escape >= num_examples/BATCH_SIZE:\n",
    "#                 break \n",
    "                \n",
    "        t_end = time.time()\n",
    "#         train_accu, train_loss = evaluate(X_train_norm, y_train_)\n",
    "#         train_losses.append(train_loss)\n",
    "#         train_accuracy_.append(train_accu*100)\n",
    "        validation_accuracy, valid_loss = evaluate(X_valid_norm, y_valid)\n",
    "        valid_losses.append(valid_loss)\n",
    "        valid_accuracy_.append(validation_accuracy*100)\n",
    "        print(\"EPOCH {0} ... [used {1:.2f} s]\".format(i+1, t_end-t_start))\n",
    "        print(\"Validation Accuracy = {:.2f} %\".format(validation_accuracy*100))\n",
    "        print()\n",
    "        \n",
    "        \n",
    "    saver.save(sess, './lenet')\n",
    "    print(\"Model saved\")\n",
    "    \n",
    "#     print(\"Training plot\")\n",
    "#     plt.figure(1)\n",
    "#     plt.plot(train_losses)\n",
    "#     plt.figure(2)\n",
    "#     plt.plot(train_accuracy_)\n",
    "    \n",
    "    fig, (ax1, ax2) = plt.subplots(1,2, figsize=(8,4))\n",
    "    fig.suptitle('Validation learning curve')\n",
    "    ax1.plot(valid_losses)\n",
    "    ax2.plot(valid_accuracy_)\n",
    "\n",
    "    plt.show()"
   ]
  },
  {
   "cell_type": "code",
   "execution_count": null,
   "metadata": {},
   "outputs": [],
   "source": []
  },
  {
   "cell_type": "code",
   "execution_count": 28,
   "metadata": {},
   "outputs": [
    {
     "name": "stdout",
     "output_type": "stream",
     "text": [
      "INFO:tensorflow:Restoring parameters from ./lenet\n",
      "Train Accuracy = 0.989\n",
      "Validation Accuracy = 0.935\n"
     ]
    }
   ],
   "source": [
    "# check accuracy of train set\n",
    "\n",
    "with tf.Session() as sess:\n",
    "    saver.restore(sess, tf.train.latest_checkpoint('.'))\n",
    "\n",
    "    train_accuracy, train_los = evaluate(X_train_norm, y_train_)\n",
    "    validd_accuracy, validd_los = evaluate(X_valid_norm, y_valid)\n",
    "    \n",
    "    print(\"Train Accuracy = {:.3f}\".format(train_accuracy))\n",
    "    print(\"Validation Accuracy = {:.3f}\".format(validd_accuracy))"
   ]
  },
  {
   "cell_type": "markdown",
   "metadata": {},
   "source": [
    "---\n",
    "\n",
    "## Step 3: Test a Model on New Images\n",
    "\n",
    "To give yourself more insight into how your model is working, download at least five pictures of German traffic signs from the web and use your model to predict the traffic sign type.\n",
    "\n",
    "You may find `signnames.csv` useful as it contains mappings from the class id (integer) to the actual sign name."
   ]
  },
  {
   "cell_type": "markdown",
   "metadata": {},
   "source": [
    "### Load and Output the Images"
   ]
  },
  {
   "cell_type": "code",
   "execution_count": null,
   "metadata": {
    "collapsed": true
   },
   "outputs": [],
   "source": [
    "### Load the images and plot them here.\n",
    "\n"
   ]
  },
  {
   "cell_type": "markdown",
   "metadata": {},
   "source": [
    "### Predict the Sign Type for Each Image"
   ]
  },
  {
   "cell_type": "code",
   "execution_count": 3,
   "metadata": {
    "collapsed": true
   },
   "outputs": [],
   "source": [
    "### Run the predictions here and use the model to output the prediction for each image.\n",
    "### Make sure to pre-process the images with the same pre-processing pipeline used earlier.\n",
    "\n",
    "\n"
   ]
  },
  {
   "cell_type": "markdown",
   "metadata": {},
   "source": [
    "### Analyze Performance"
   ]
  },
  {
   "cell_type": "code",
   "execution_count": 4,
   "metadata": {
    "collapsed": true
   },
   "outputs": [],
   "source": [
    "### Calculate the accuracy for these 5 new images. \n",
    "### For example, if the model predicted 1 out of 5 signs correctly, it's 20% accurate on these new images."
   ]
  },
  {
   "cell_type": "markdown",
   "metadata": {},
   "source": [
    "### Output Top 5 Softmax Probabilities For Each Image Found on the Web"
   ]
  },
  {
   "cell_type": "markdown",
   "metadata": {},
   "source": [
    "For each of the new images, print out the model's softmax probabilities to show the **certainty** of the model's predictions (limit the output to the top 5 probabilities for each image). [`tf.nn.top_k`](https://www.tensorflow.org/versions/r0.12/api_docs/python/nn.html#top_k) could prove helpful here. \n",
    "\n",
    "The example below demonstrates how tf.nn.top_k can be used to find the top k predictions for each image.\n",
    "\n",
    "`tf.nn.top_k` will return the values and indices (class ids) of the top k predictions. So if k=3, for each sign, it'll return the 3 largest probabilities (out of a possible 43) and the correspoding class ids.\n",
    "\n",
    "Take this numpy array as an example. The values in the array represent predictions. The array contains softmax probabilities for five candidate images with six possible classes. `tf.nn.top_k` is used to choose the three classes with the highest probability:\n",
    "\n",
    "```\n",
    "# (5, 6) array\n",
    "a = np.array([[ 0.24879643,  0.07032244,  0.12641572,  0.34763842,  0.07893497,\n",
    "         0.12789202],\n",
    "       [ 0.28086119,  0.27569815,  0.08594638,  0.0178669 ,  0.18063401,\n",
    "         0.15899337],\n",
    "       [ 0.26076848,  0.23664738,  0.08020603,  0.07001922,  0.1134371 ,\n",
    "         0.23892179],\n",
    "       [ 0.11943333,  0.29198961,  0.02605103,  0.26234032,  0.1351348 ,\n",
    "         0.16505091],\n",
    "       [ 0.09561176,  0.34396535,  0.0643941 ,  0.16240774,  0.24206137,\n",
    "         0.09155967]])\n",
    "```\n",
    "\n",
    "Running it through `sess.run(tf.nn.top_k(tf.constant(a), k=3))` produces:\n",
    "\n",
    "```\n",
    "TopKV2(values=array([[ 0.34763842,  0.24879643,  0.12789202],\n",
    "       [ 0.28086119,  0.27569815,  0.18063401],\n",
    "       [ 0.26076848,  0.23892179,  0.23664738],\n",
    "       [ 0.29198961,  0.26234032,  0.16505091],\n",
    "       [ 0.34396535,  0.24206137,  0.16240774]]), indices=array([[3, 0, 5],\n",
    "       [0, 1, 4],\n",
    "       [0, 5, 1],\n",
    "       [1, 3, 5],\n",
    "       [1, 4, 3]], dtype=int32))\n",
    "```\n",
    "\n",
    "Looking just at the first row we get `[ 0.34763842,  0.24879643,  0.12789202]`, you can confirm these are the 3 largest probabilities in `a`. You'll also notice `[3, 0, 5]` are the corresponding indices."
   ]
  },
  {
   "cell_type": "code",
   "execution_count": 3,
   "metadata": {
    "collapsed": true
   },
   "outputs": [],
   "source": [
    "### Print out the top five softmax probabilities for the predictions on the German traffic sign images found on the web. \n",
    "\n"
   ]
  },
  {
   "cell_type": "markdown",
   "metadata": {},
   "source": [
    "### Project Writeup\n",
    "\n",
    "Once you have completed the code implementation, document your results in a project writeup using this [template](https://github.com/udacity/CarND-Traffic-Sign-Classifier-Project/blob/master/writeup_template.md) as a guide. The writeup can be in a markdown or pdf file. "
   ]
  },
  {
   "cell_type": "markdown",
   "metadata": {},
   "source": [
    "> **Note**: Once you have completed all of the code implementations and successfully answered each question above, you may finalize your work by exporting the iPython Notebook as an HTML document. You can do this by using the menu above and navigating to  \\n\",\n",
    "    \"**File -> Download as -> HTML (.html)**. Include the finished document along with this notebook as your submission."
   ]
  },
  {
   "cell_type": "markdown",
   "metadata": {},
   "source": [
    "---\n",
    "\n",
    "## Step 4 (Optional): Visualize the Neural Network's State with Test Images\n",
    "\n",
    " This Section is not required to complete but acts as an additional excersise for understaning the output of a neural network's weights. While neural networks can be a great learning device they are often referred to as a black box. We can understand what the weights of a neural network look like better by plotting their feature maps. After successfully training your neural network you can see what it's feature maps look like by plotting the output of the network's weight layers in response to a test stimuli image. From these plotted feature maps, it's possible to see what characteristics of an image the network finds interesting. For a sign, maybe the inner network feature maps react with high activation to the sign's boundary outline or to the contrast in the sign's painted symbol.\n",
    "\n",
    " Provided for you below is the function code that allows you to get the visualization output of any tensorflow weight layer you want. The inputs to the function should be a stimuli image, one used during training or a new one you provided, and then the tensorflow variable name that represents the layer's state during the training process, for instance if you wanted to see what the [LeNet lab's](https://classroom.udacity.com/nanodegrees/nd013/parts/fbf77062-5703-404e-b60c-95b78b2f3f9e/modules/6df7ae49-c61c-4bb2-a23e-6527e69209ec/lessons/601ae704-1035-4287-8b11-e2c2716217ad/concepts/d4aca031-508f-4e0b-b493-e7b706120f81) feature maps looked like for it's second convolutional layer you could enter conv2 as the tf_activation variable.\n",
    "\n",
    "For an example of what feature map outputs look like, check out NVIDIA's results in their paper [End-to-End Deep Learning for Self-Driving Cars](https://devblogs.nvidia.com/parallelforall/deep-learning-self-driving-cars/) in the section Visualization of internal CNN State. NVIDIA was able to show that their network's inner weights had high activations to road boundary lines by comparing feature maps from an image with a clear path to one without. Try experimenting with a similar test to show that your trained network's weights are looking for interesting features, whether it's looking at differences in feature maps from images with or without a sign, or even what feature maps look like in a trained network vs a completely untrained one on the same sign image.\n",
    "\n",
    "<figure>\n",
    " <img src=\"visualize_cnn.png\" width=\"380\" alt=\"Combined Image\" />\n",
    " <figcaption>\n",
    " <p></p> \n",
    " <p style=\"text-align: center;\"> Your output should look something like this (above)</p> \n",
    " </figcaption>\n",
    "</figure>\n",
    " <p></p> \n"
   ]
  },
  {
   "cell_type": "code",
   "execution_count": null,
   "metadata": {
    "collapsed": true
   },
   "outputs": [],
   "source": [
    "### Visualize your network's feature maps here.\n",
    "### Feel free to use as many code cells as needed.\n",
    "\n",
    "# image_input: the test image being fed into the network to produce the feature maps\n",
    "# tf_activation: should be a tf variable name used during your training procedure that represents the calculated state of a specific weight layer\n",
    "# activation_min/max: can be used to view the activation contrast in more detail, by default matplot sets min and max to the actual min and max values of the output\n",
    "# plt_num: used to plot out multiple different weight feature map sets on the same block, just extend the plt number for each new feature map entry\n",
    "\n",
    "def outputFeatureMap(image_input, tf_activation, activation_min=-1, activation_max=-1 ,plt_num=1):\n",
    "    # Here make sure to preprocess your image_input in a way your network expects\n",
    "    # with size, normalization, ect if needed\n",
    "    # image_input =\n",
    "    # Note: x should be the same name as your network's tensorflow data placeholder variable\n",
    "    # If you get an error tf_activation is not defined it may be having trouble accessing the variable from inside a function\n",
    "    activation = tf_activation.eval(session=sess,feed_dict={x : image_input})\n",
    "    featuremaps = activation.shape[3]\n",
    "    plt.figure(plt_num, figsize=(15,15))\n",
    "    for featuremap in range(featuremaps):\n",
    "        plt.subplot(6,8, featuremap+1) # sets the number of feature maps to show on each row and column\n",
    "        plt.title('FeatureMap ' + str(featuremap)) # displays the feature map number\n",
    "        if activation_min != -1 & activation_max != -1:\n",
    "            plt.imshow(activation[0,:,:, featuremap], interpolation=\"nearest\", vmin =activation_min, vmax=activation_max, cmap=\"gray\")\n",
    "        elif activation_max != -1:\n",
    "            plt.imshow(activation[0,:,:, featuremap], interpolation=\"nearest\", vmax=activation_max, cmap=\"gray\")\n",
    "        elif activation_min !=-1:\n",
    "            plt.imshow(activation[0,:,:, featuremap], interpolation=\"nearest\", vmin=activation_min, cmap=\"gray\")\n",
    "        else:\n",
    "            plt.imshow(activation[0,:,:, featuremap], interpolation=\"nearest\", cmap=\"gray\")"
   ]
  },
  {
   "cell_type": "code",
   "execution_count": null,
   "metadata": {},
   "outputs": [],
   "source": []
  },
  {
   "cell_type": "markdown",
   "metadata": {},
   "source": [
    "## Final evaluation (only run once!)"
   ]
  },
  {
   "cell_type": "code",
   "execution_count": null,
   "metadata": {},
   "outputs": [],
   "source": [
    "with tf.Session() as sess:\n",
    "    saver.restore(sess, tf.train.latest_checkpoint('.'))\n",
    "\n",
    "    test_accuracy = evaluate(X_test, y_test)\n",
    "    print(\"Test Accuracy = {:.3f}\".format(test_accuracy))"
   ]
  }
 ],
 "metadata": {
  "anaconda-cloud": {},
  "kernelspec": {
   "display_name": "Python 3",
   "language": "python",
   "name": "python3"
  },
  "language_info": {
   "codemirror_mode": {
    "name": "ipython",
    "version": 3
   },
   "file_extension": ".py",
   "mimetype": "text/x-python",
   "name": "python",
   "nbconvert_exporter": "python",
   "pygments_lexer": "ipython3",
   "version": "3.7.6"
  }
 },
 "nbformat": 4,
 "nbformat_minor": 1
}
